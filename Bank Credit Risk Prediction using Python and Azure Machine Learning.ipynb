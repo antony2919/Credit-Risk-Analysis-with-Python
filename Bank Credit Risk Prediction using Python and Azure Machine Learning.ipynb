{
  "cells": [
    {
      "metadata": {},
      "cell_type": "markdown",
      "source": "# 1. Acceso a Datos"
    },
    {
      "metadata": {
        "trusted": true
      },
      "cell_type": "code",
      "source": "import pandas as pd\ntrain=pd.read_csv(\"risk.csv\", delimiter=',')",
      "execution_count": 1,
      "outputs": []
    },
    {
      "metadata": {
        "trusted": true
      },
      "cell_type": "code",
      "source": "train.head(10)",
      "execution_count": 2,
      "outputs": [
        {
          "output_type": "execute_result",
          "execution_count": 2,
          "data": {
            "text/html": "<div>\n<style scoped>\n    .dataframe tbody tr th:only-of-type {\n        vertical-align: middle;\n    }\n\n    .dataframe tbody tr th {\n        vertical-align: top;\n    }\n\n    .dataframe thead th {\n        text-align: right;\n    }\n</style>\n<table border=\"1\" class=\"dataframe\">\n  <thead>\n    <tr style=\"text-align: right;\">\n      <th></th>\n      <th>ID</th>\n      <th>age</th>\n      <th>income</th>\n      <th>max_ant</th>\n      <th>months</th>\n      <th>score</th>\n      <th>zone</th>\n      <th>level</th>\n      <th>house_type</th>\n      <th>risk</th>\n    </tr>\n  </thead>\n  <tbody>\n    <tr>\n      <th>0</th>\n      <td>1540</td>\n      <td>38.0</td>\n      <td>5192.0</td>\n      <td>0.0</td>\n      <td>126.0</td>\n      <td>178.0</td>\n      <td>Oriente</td>\n      <td>EdBasica</td>\n      <td>Alquilada</td>\n      <td>1</td>\n    </tr>\n    <tr>\n      <th>1</th>\n      <td>548</td>\n      <td>40.0</td>\n      <td>25389.0</td>\n      <td>35.0</td>\n      <td>263.0</td>\n      <td>172.0</td>\n      <td>Capital</td>\n      <td>Profesional</td>\n      <td>Alquilada</td>\n      <td>0</td>\n    </tr>\n    <tr>\n      <th>2</th>\n      <td>784</td>\n      <td>53.0</td>\n      <td>22000.0</td>\n      <td>94.0</td>\n      <td>246.0</td>\n      <td>172.0</td>\n      <td>Capital</td>\n      <td>Profesional</td>\n      <td>Alquilada</td>\n      <td>0</td>\n    </tr>\n    <tr>\n      <th>3</th>\n      <td>897</td>\n      <td>33.0</td>\n      <td>7250.0</td>\n      <td>46.0</td>\n      <td>132.0</td>\n      <td>182.0</td>\n      <td>Capital</td>\n      <td>Profesional</td>\n      <td>Alquilada</td>\n      <td>0</td>\n    </tr>\n    <tr>\n      <th>4</th>\n      <td>968</td>\n      <td>43.0</td>\n      <td>16000.0</td>\n      <td>119.0</td>\n      <td>222.0</td>\n      <td>185.0</td>\n      <td>Capital</td>\n      <td>Profesional</td>\n      <td>Alquilada</td>\n      <td>0</td>\n    </tr>\n    <tr>\n      <th>5</th>\n      <td>1009</td>\n      <td>40.0</td>\n      <td>9900.0</td>\n      <td>35.0</td>\n      <td>198.0</td>\n      <td>211.0</td>\n      <td>Capital</td>\n      <td>Profesional</td>\n      <td>Alquilada</td>\n      <td>0</td>\n    </tr>\n    <tr>\n      <th>6</th>\n      <td>1074</td>\n      <td>41.0</td>\n      <td>6000.0</td>\n      <td>29.0</td>\n      <td>189.0</td>\n      <td>221.0</td>\n      <td>Capital</td>\n      <td>Profesional</td>\n      <td>Alquilada</td>\n      <td>0</td>\n    </tr>\n    <tr>\n      <th>7</th>\n      <td>1133</td>\n      <td>30.0</td>\n      <td>7500.0</td>\n      <td>23.0</td>\n      <td>123.0</td>\n      <td>187.0</td>\n      <td>Capital</td>\n      <td>Profesional</td>\n      <td>Alquilada</td>\n      <td>0</td>\n    </tr>\n    <tr>\n      <th>8</th>\n      <td>1152</td>\n      <td>37.0</td>\n      <td>1200.0</td>\n      <td>38.0</td>\n      <td>146.0</td>\n      <td>189.0</td>\n      <td>Capital</td>\n      <td>Profesional</td>\n      <td>Alquilada</td>\n      <td>0</td>\n    </tr>\n    <tr>\n      <th>9</th>\n      <td>1328</td>\n      <td>36.0</td>\n      <td>30000.0</td>\n      <td>42.0</td>\n      <td>210.0</td>\n      <td>187.0</td>\n      <td>Capital</td>\n      <td>Profesional</td>\n      <td>Alquilada</td>\n      <td>0</td>\n    </tr>\n  </tbody>\n</table>\n</div>",
            "text/plain": "     ID   age   income  max_ant  months  score     zone        level  \\\n0  1540  38.0   5192.0      0.0   126.0  178.0  Oriente     EdBasica   \n1   548  40.0  25389.0     35.0   263.0  172.0  Capital  Profesional   \n2   784  53.0  22000.0     94.0   246.0  172.0  Capital  Profesional   \n3   897  33.0   7250.0     46.0   132.0  182.0  Capital  Profesional   \n4   968  43.0  16000.0    119.0   222.0  185.0  Capital  Profesional   \n5  1009  40.0   9900.0     35.0   198.0  211.0  Capital  Profesional   \n6  1074  41.0   6000.0     29.0   189.0  221.0  Capital  Profesional   \n7  1133  30.0   7500.0     23.0   123.0  187.0  Capital  Profesional   \n8  1152  37.0   1200.0     38.0   146.0  189.0  Capital  Profesional   \n9  1328  36.0  30000.0     42.0   210.0  187.0  Capital  Profesional   \n\n  house_type  risk  \n0  Alquilada     1  \n1  Alquilada     0  \n2  Alquilada     0  \n3  Alquilada     0  \n4  Alquilada     0  \n5  Alquilada     0  \n6  Alquilada     0  \n7  Alquilada     0  \n8  Alquilada     0  \n9  Alquilada     0  "
          },
          "metadata": {}
        }
      ]
    },
    {
      "metadata": {
        "trusted": true
      },
      "cell_type": "code",
      "source": "train.loc[(train['zone']=='Capital')&(train['income']>=3000)].head(5)",
      "execution_count": 3,
      "outputs": [
        {
          "output_type": "execute_result",
          "execution_count": 3,
          "data": {
            "text/html": "<div>\n<style scoped>\n    .dataframe tbody tr th:only-of-type {\n        vertical-align: middle;\n    }\n\n    .dataframe tbody tr th {\n        vertical-align: top;\n    }\n\n    .dataframe thead th {\n        text-align: right;\n    }\n</style>\n<table border=\"1\" class=\"dataframe\">\n  <thead>\n    <tr style=\"text-align: right;\">\n      <th></th>\n      <th>ID</th>\n      <th>age</th>\n      <th>income</th>\n      <th>max_ant</th>\n      <th>months</th>\n      <th>score</th>\n      <th>zone</th>\n      <th>level</th>\n      <th>house_type</th>\n      <th>risk</th>\n    </tr>\n  </thead>\n  <tbody>\n    <tr>\n      <th>1</th>\n      <td>548</td>\n      <td>40.0</td>\n      <td>25389.0</td>\n      <td>35.0</td>\n      <td>263.0</td>\n      <td>172.0</td>\n      <td>Capital</td>\n      <td>Profesional</td>\n      <td>Alquilada</td>\n      <td>0</td>\n    </tr>\n    <tr>\n      <th>2</th>\n      <td>784</td>\n      <td>53.0</td>\n      <td>22000.0</td>\n      <td>94.0</td>\n      <td>246.0</td>\n      <td>172.0</td>\n      <td>Capital</td>\n      <td>Profesional</td>\n      <td>Alquilada</td>\n      <td>0</td>\n    </tr>\n    <tr>\n      <th>3</th>\n      <td>897</td>\n      <td>33.0</td>\n      <td>7250.0</td>\n      <td>46.0</td>\n      <td>132.0</td>\n      <td>182.0</td>\n      <td>Capital</td>\n      <td>Profesional</td>\n      <td>Alquilada</td>\n      <td>0</td>\n    </tr>\n    <tr>\n      <th>4</th>\n      <td>968</td>\n      <td>43.0</td>\n      <td>16000.0</td>\n      <td>119.0</td>\n      <td>222.0</td>\n      <td>185.0</td>\n      <td>Capital</td>\n      <td>Profesional</td>\n      <td>Alquilada</td>\n      <td>0</td>\n    </tr>\n    <tr>\n      <th>5</th>\n      <td>1009</td>\n      <td>40.0</td>\n      <td>9900.0</td>\n      <td>35.0</td>\n      <td>198.0</td>\n      <td>211.0</td>\n      <td>Capital</td>\n      <td>Profesional</td>\n      <td>Alquilada</td>\n      <td>0</td>\n    </tr>\n  </tbody>\n</table>\n</div>",
            "text/plain": "     ID   age   income  max_ant  months  score     zone        level  \\\n1   548  40.0  25389.0     35.0   263.0  172.0  Capital  Profesional   \n2   784  53.0  22000.0     94.0   246.0  172.0  Capital  Profesional   \n3   897  33.0   7250.0     46.0   132.0  182.0  Capital  Profesional   \n4   968  43.0  16000.0    119.0   222.0  185.0  Capital  Profesional   \n5  1009  40.0   9900.0     35.0   198.0  211.0  Capital  Profesional   \n\n  house_type  risk  \n1  Alquilada     0  \n2  Alquilada     0  \n3  Alquilada     0  \n4  Alquilada     0  \n5  Alquilada     0  "
          },
          "metadata": {}
        }
      ]
    },
    {
      "metadata": {
        "trusted": true
      },
      "cell_type": "code",
      "source": "train.loc[(train['zone']=='Capital')&(train['income']>=300),['risk','level']].head(5)",
      "execution_count": 4,
      "outputs": [
        {
          "output_type": "execute_result",
          "execution_count": 4,
          "data": {
            "text/html": "<div>\n<style scoped>\n    .dataframe tbody tr th:only-of-type {\n        vertical-align: middle;\n    }\n\n    .dataframe tbody tr th {\n        vertical-align: top;\n    }\n\n    .dataframe thead th {\n        text-align: right;\n    }\n</style>\n<table border=\"1\" class=\"dataframe\">\n  <thead>\n    <tr style=\"text-align: right;\">\n      <th></th>\n      <th>risk</th>\n      <th>level</th>\n    </tr>\n  </thead>\n  <tbody>\n    <tr>\n      <th>1</th>\n      <td>0</td>\n      <td>Profesional</td>\n    </tr>\n    <tr>\n      <th>2</th>\n      <td>0</td>\n      <td>Profesional</td>\n    </tr>\n    <tr>\n      <th>3</th>\n      <td>0</td>\n      <td>Profesional</td>\n    </tr>\n    <tr>\n      <th>4</th>\n      <td>0</td>\n      <td>Profesional</td>\n    </tr>\n    <tr>\n      <th>5</th>\n      <td>0</td>\n      <td>Profesional</td>\n    </tr>\n  </tbody>\n</table>\n</div>",
            "text/plain": "   risk        level\n1     0  Profesional\n2     0  Profesional\n3     0  Profesional\n4     0  Profesional\n5     0  Profesional"
          },
          "metadata": {}
        }
      ]
    },
    {
      "metadata": {},
      "cell_type": "markdown",
      "source": "# 2. Analisis Exploratorio de Datos"
    },
    {
      "metadata": {
        "trusted": true
      },
      "cell_type": "code",
      "source": "train.describe() #Resumen de la informaciÃ³n",
      "execution_count": 5,
      "outputs": [
        {
          "output_type": "execute_result",
          "execution_count": 5,
          "data": {
            "text/html": "<div>\n<style scoped>\n    .dataframe tbody tr th:only-of-type {\n        vertical-align: middle;\n    }\n\n    .dataframe tbody tr th {\n        vertical-align: top;\n    }\n\n    .dataframe thead th {\n        text-align: right;\n    }\n</style>\n<table border=\"1\" class=\"dataframe\">\n  <thead>\n    <tr style=\"text-align: right;\">\n      <th></th>\n      <th>ID</th>\n      <th>age</th>\n      <th>income</th>\n      <th>max_ant</th>\n      <th>months</th>\n      <th>score</th>\n      <th>risk</th>\n    </tr>\n  </thead>\n  <tbody>\n    <tr>\n      <th>count</th>\n      <td>4500.000000</td>\n      <td>4487.000000</td>\n      <td>4495.000000</td>\n      <td>4496.000000</td>\n      <td>4494.000000</td>\n      <td>4495.000000</td>\n      <td>4500.000000</td>\n    </tr>\n    <tr>\n      <th>mean</th>\n      <td>2627.922889</td>\n      <td>36.714286</td>\n      <td>4497.296921</td>\n      <td>26.925044</td>\n      <td>183.848687</td>\n      <td>197.564182</td>\n      <td>0.700000</td>\n    </tr>\n    <tr>\n      <th>std</th>\n      <td>1442.292454</td>\n      <td>9.834472</td>\n      <td>5465.461575</td>\n      <td>32.693016</td>\n      <td>73.091668</td>\n      <td>19.291196</td>\n      <td>0.458308</td>\n    </tr>\n    <tr>\n      <th>min</th>\n      <td>2.000000</td>\n      <td>20.000000</td>\n      <td>123.700000</td>\n      <td>0.000000</td>\n      <td>95.000000</td>\n      <td>134.000000</td>\n      <td>0.000000</td>\n    </tr>\n    <tr>\n      <th>25%</th>\n      <td>1275.750000</td>\n      <td>29.000000</td>\n      <td>1406.415000</td>\n      <td>0.000000</td>\n      <td>137.000000</td>\n      <td>183.000000</td>\n      <td>0.000000</td>\n    </tr>\n    <tr>\n      <th>50%</th>\n      <td>2749.500000</td>\n      <td>35.000000</td>\n      <td>2500.000000</td>\n      <td>14.000000</td>\n      <td>161.000000</td>\n      <td>197.000000</td>\n      <td>1.000000</td>\n    </tr>\n    <tr>\n      <th>75%</th>\n      <td>3874.250000</td>\n      <td>43.000000</td>\n      <td>5000.000000</td>\n      <td>42.000000</td>\n      <td>207.000000</td>\n      <td>213.000000</td>\n      <td>1.000000</td>\n    </tr>\n    <tr>\n      <th>max</th>\n      <td>4999.000000</td>\n      <td>85.000000</td>\n      <td>30000.000000</td>\n      <td>130.000000</td>\n      <td>678.000000</td>\n      <td>266.000000</td>\n      <td>1.000000</td>\n    </tr>\n  </tbody>\n</table>\n</div>",
            "text/plain": "                ID          age        income      max_ant       months  \\\ncount  4500.000000  4487.000000   4495.000000  4496.000000  4494.000000   \nmean   2627.922889    36.714286   4497.296921    26.925044   183.848687   \nstd    1442.292454     9.834472   5465.461575    32.693016    73.091668   \nmin       2.000000    20.000000    123.700000     0.000000    95.000000   \n25%    1275.750000    29.000000   1406.415000     0.000000   137.000000   \n50%    2749.500000    35.000000   2500.000000    14.000000   161.000000   \n75%    3874.250000    43.000000   5000.000000    42.000000   207.000000   \nmax    4999.000000    85.000000  30000.000000   130.000000   678.000000   \n\n             score         risk  \ncount  4495.000000  4500.000000  \nmean    197.564182     0.700000  \nstd      19.291196     0.458308  \nmin     134.000000     0.000000  \n25%     183.000000     0.000000  \n50%     197.000000     1.000000  \n75%     213.000000     1.000000  \nmax     266.000000     1.000000  "
          },
          "metadata": {}
        }
      ]
    },
    {
      "metadata": {
        "trusted": true
      },
      "cell_type": "code",
      "source": "train.shape",
      "execution_count": 6,
      "outputs": [
        {
          "output_type": "execute_result",
          "execution_count": 6,
          "data": {
            "text/plain": "(4500, 10)"
          },
          "metadata": {}
        }
      ]
    },
    {
      "metadata": {
        "trusted": true
      },
      "cell_type": "code",
      "source": "train.describe(include='all') # Describir todas las variables",
      "execution_count": 7,
      "outputs": [
        {
          "output_type": "execute_result",
          "execution_count": 7,
          "data": {
            "text/html": "<div>\n<style scoped>\n    .dataframe tbody tr th:only-of-type {\n        vertical-align: middle;\n    }\n\n    .dataframe tbody tr th {\n        vertical-align: top;\n    }\n\n    .dataframe thead th {\n        text-align: right;\n    }\n</style>\n<table border=\"1\" class=\"dataframe\">\n  <thead>\n    <tr style=\"text-align: right;\">\n      <th></th>\n      <th>ID</th>\n      <th>age</th>\n      <th>income</th>\n      <th>max_ant</th>\n      <th>months</th>\n      <th>score</th>\n      <th>zone</th>\n      <th>level</th>\n      <th>house_type</th>\n      <th>risk</th>\n    </tr>\n  </thead>\n  <tbody>\n    <tr>\n      <th>count</th>\n      <td>4500.000000</td>\n      <td>4487.000000</td>\n      <td>4495.000000</td>\n      <td>4496.000000</td>\n      <td>4494.000000</td>\n      <td>4495.000000</td>\n      <td>4494</td>\n      <td>4500</td>\n      <td>4500</td>\n      <td>4500.000000</td>\n    </tr>\n    <tr>\n      <th>unique</th>\n      <td>NaN</td>\n      <td>NaN</td>\n      <td>NaN</td>\n      <td>NaN</td>\n      <td>NaN</td>\n      <td>NaN</td>\n      <td>5</td>\n      <td>5</td>\n      <td>4</td>\n      <td>NaN</td>\n    </tr>\n    <tr>\n      <th>top</th>\n      <td>NaN</td>\n      <td>NaN</td>\n      <td>NaN</td>\n      <td>NaN</td>\n      <td>NaN</td>\n      <td>NaN</td>\n      <td>Capital</td>\n      <td>Profesional</td>\n      <td>Familiar</td>\n      <td>NaN</td>\n    </tr>\n    <tr>\n      <th>freq</th>\n      <td>NaN</td>\n      <td>NaN</td>\n      <td>NaN</td>\n      <td>NaN</td>\n      <td>NaN</td>\n      <td>NaN</td>\n      <td>3082</td>\n      <td>2497</td>\n      <td>3092</td>\n      <td>NaN</td>\n    </tr>\n    <tr>\n      <th>mean</th>\n      <td>2627.922889</td>\n      <td>36.714286</td>\n      <td>4497.296921</td>\n      <td>26.925044</td>\n      <td>183.848687</td>\n      <td>197.564182</td>\n      <td>NaN</td>\n      <td>NaN</td>\n      <td>NaN</td>\n      <td>0.700000</td>\n    </tr>\n    <tr>\n      <th>std</th>\n      <td>1442.292454</td>\n      <td>9.834472</td>\n      <td>5465.461575</td>\n      <td>32.693016</td>\n      <td>73.091668</td>\n      <td>19.291196</td>\n      <td>NaN</td>\n      <td>NaN</td>\n      <td>NaN</td>\n      <td>0.458308</td>\n    </tr>\n    <tr>\n      <th>min</th>\n      <td>2.000000</td>\n      <td>20.000000</td>\n      <td>123.700000</td>\n      <td>0.000000</td>\n      <td>95.000000</td>\n      <td>134.000000</td>\n      <td>NaN</td>\n      <td>NaN</td>\n      <td>NaN</td>\n      <td>0.000000</td>\n    </tr>\n    <tr>\n      <th>25%</th>\n      <td>1275.750000</td>\n      <td>29.000000</td>\n      <td>1406.415000</td>\n      <td>0.000000</td>\n      <td>137.000000</td>\n      <td>183.000000</td>\n      <td>NaN</td>\n      <td>NaN</td>\n      <td>NaN</td>\n      <td>0.000000</td>\n    </tr>\n    <tr>\n      <th>50%</th>\n      <td>2749.500000</td>\n      <td>35.000000</td>\n      <td>2500.000000</td>\n      <td>14.000000</td>\n      <td>161.000000</td>\n      <td>197.000000</td>\n      <td>NaN</td>\n      <td>NaN</td>\n      <td>NaN</td>\n      <td>1.000000</td>\n    </tr>\n    <tr>\n      <th>75%</th>\n      <td>3874.250000</td>\n      <td>43.000000</td>\n      <td>5000.000000</td>\n      <td>42.000000</td>\n      <td>207.000000</td>\n      <td>213.000000</td>\n      <td>NaN</td>\n      <td>NaN</td>\n      <td>NaN</td>\n      <td>1.000000</td>\n    </tr>\n    <tr>\n      <th>max</th>\n      <td>4999.000000</td>\n      <td>85.000000</td>\n      <td>30000.000000</td>\n      <td>130.000000</td>\n      <td>678.000000</td>\n      <td>266.000000</td>\n      <td>NaN</td>\n      <td>NaN</td>\n      <td>NaN</td>\n      <td>1.000000</td>\n    </tr>\n  </tbody>\n</table>\n</div>",
            "text/plain": "                 ID          age        income      max_ant       months  \\\ncount   4500.000000  4487.000000   4495.000000  4496.000000  4494.000000   \nunique          NaN          NaN           NaN          NaN          NaN   \ntop             NaN          NaN           NaN          NaN          NaN   \nfreq            NaN          NaN           NaN          NaN          NaN   \nmean    2627.922889    36.714286   4497.296921    26.925044   183.848687   \nstd     1442.292454     9.834472   5465.461575    32.693016    73.091668   \nmin        2.000000    20.000000    123.700000     0.000000    95.000000   \n25%     1275.750000    29.000000   1406.415000     0.000000   137.000000   \n50%     2749.500000    35.000000   2500.000000    14.000000   161.000000   \n75%     3874.250000    43.000000   5000.000000    42.000000   207.000000   \nmax     4999.000000    85.000000  30000.000000   130.000000   678.000000   \n\n              score     zone        level house_type         risk  \ncount   4495.000000     4494         4500       4500  4500.000000  \nunique          NaN        5            5          4          NaN  \ntop             NaN  Capital  Profesional   Familiar          NaN  \nfreq            NaN     3082         2497       3092          NaN  \nmean     197.564182      NaN          NaN        NaN     0.700000  \nstd       19.291196      NaN          NaN        NaN     0.458308  \nmin      134.000000      NaN          NaN        NaN     0.000000  \n25%      183.000000      NaN          NaN        NaN     0.000000  \n50%      197.000000      NaN          NaN        NaN     1.000000  \n75%      213.000000      NaN          NaN        NaN     1.000000  \nmax      266.000000      NaN          NaN        NaN     1.000000  "
          },
          "metadata": {}
        }
      ]
    },
    {
      "metadata": {
        "trusted": true
      },
      "cell_type": "code",
      "source": "%matplotlib inline\nimport matplotlib.pyplot as plt\nplt.title('Histograma de la Variable Income')\ntrain['income'].hist(figsize=(4,4),color=\"blue\",bins=80)\nplt.ylim(0,400)",
      "execution_count": 8,
      "outputs": [
        {
          "output_type": "stream",
          "text": "/home/nbuser/anaconda3_501/lib/python3.6/site-packages/matplotlib/font_manager.py:229: UserWarning: Matplotlib is building the font cache using fc-list. This may take a moment.\n  'Matplotlib is building the font cache using fc-list. '\n",
          "name": "stderr"
        },
        {
          "output_type": "execute_result",
          "execution_count": 8,
          "data": {
            "text/plain": "(0, 400)"
          },
          "metadata": {}
        },
        {
          "output_type": "display_data",
          "data": {
            "image/png": "[encoded data removed]",
            "text/plain": "<Figure size 288x288 with 1 Axes>"
          },
          "metadata": {
            "needs_background": "light"
          }
        }
      ]
    },
    {
      "metadata": {
        "trusted": true
      },
      "cell_type": "code",
      "source": "%matplotlib inline\nimport matplotlib.pyplot as plt\nplt.title('Histograma de la Variable Age')\ntrain['age'].hist(figsize=(4,4),color=\"blue\",bins=80)\nplt.ylim(0,400)",
      "execution_count": 9,
      "outputs": [
        {
          "output_type": "execute_result",
          "execution_count": 9,
          "data": {
            "text/plain": "(0, 400)"
          },
          "metadata": {}
        },
        {
          "output_type": "display_data",
          "data": {
            "image/png": "[encoded data removed]",
            "text/plain": "<matplotlib.figure.Figure at 0x7f5bef0d3390>"
          },
          "metadata": {}
        }
      ]
    },
    {
      "metadata": {
        "trusted": true
      },
      "cell_type": "code",
      "source": "# GrÃ¡fico de Cajas\nimport pandas as pd\n%matplotlib inline\nimport matplotlib.pyplot as plt\nplt.title('GrÃ¡fico de Cajas de Scores')\n#train.boxplot(column='LoanAmount',showfliers='T',notch=0, sym='+', vert=1, whis=1.5)\ntrain.boxplot(column='months')",
      "execution_count": 10,
      "outputs": [
        {
          "output_type": "execute_result",
          "execution_count": 10,
          "data": {
            "text/plain": "<matplotlib.axes._subplots.AxesSubplot at 0x7f5bef07a470>"
          },
          "metadata": {}
        },
        {
          "output_type": "display_data",
          "data": {
            "image/png": "[encoded data removed]",
            "text/plain": "<matplotlib.figure.Figure at 0x7f5bef0cf8d0>"
          },
          "metadata": {}
        }
      ]
    },
    {
      "metadata": {
        "trusted": true
      },
      "cell_type": "code",
      "source": "train.boxplot(column='income',showfliers='T',notch=0, sym='+', vert=1, whis=1.5,by='zone')",
      "execution_count": 11,
      "outputs": [
        {
          "output_type": "stream",
          "text": "/home/nbuser/anaconda3_420/lib/python3.5/site-packages/numpy/core/fromnumeric.py:56: FutureWarning: reshape is deprecated and will raise in a subsequent release. Please use .values.reshape(...) instead\n  return getattr(obj, method)(*args, **kwds)\n",
          "name": "stderr"
        },
        {
          "output_type": "execute_result",
          "execution_count": 11,
          "data": {
            "text/plain": "<matplotlib.axes._subplots.AxesSubplot at 0x7f5bf337da90>"
          },
          "metadata": {}
        },
        {
          "output_type": "display_data",
          "data": {
            "image/png": "[encoded data removed]",
            "text/plain": "<matplotlib.figure.Figure at 0x7f5bef05f7f0>"
          },
          "metadata": {}
        }
      ]
    },
    {
      "metadata": {
        "trusted": true
      },
      "cell_type": "code",
      "source": "# Tabla de Contingencia para la Variable Risk\nimport numpy as np\nimport pandas as pd\nimport os\n\nmy_tab = pd.crosstab(train[\"risk\"],columns=\"count\",normalize='all')\nmy_tab",
      "execution_count": 12,
      "outputs": [
        {
          "output_type": "execute_result",
          "execution_count": 12,
          "data": {
            "text/html": "<div>\n<table border=\"1\" class=\"dataframe\">\n  <thead>\n    <tr style=\"text-align: right;\">\n      <th>col_0</th>\n      <th>count</th>\n    </tr>\n    <tr>\n      <th>risk</th>\n      <th></th>\n    </tr>\n  </thead>\n  <tbody>\n    <tr>\n      <th>0</th>\n      <td>0.3</td>\n    </tr>\n    <tr>\n      <th>1</th>\n      <td>0.7</td>\n    </tr>\n  </tbody>\n</table>\n</div>",
            "text/plain": "col_0  count\nrisk        \n0        0.3\n1        0.7"
          },
          "metadata": {}
        }
      ]
    },
    {
      "metadata": {
        "trusted": true
      },
      "cell_type": "code",
      "source": "# Tabla de Contingencia para la Variable Zone\nimport pandas as pd\nmy_tab = pd.crosstab(index=train[\"zone\"],columns=\"count\",normalize='all')\nmy_tab",
      "execution_count": 13,
      "outputs": [
        {
          "output_type": "execute_result",
          "execution_count": 13,
          "data": {
            "text/html": "<div>\n<table border=\"1\" class=\"dataframe\">\n  <thead>\n    <tr style=\"text-align: right;\">\n      <th>col_0</th>\n      <th>count</th>\n    </tr>\n    <tr>\n      <th>zone</th>\n      <th></th>\n    </tr>\n  </thead>\n  <tbody>\n    <tr>\n      <th>Capital</th>\n      <td>0.685803</td>\n    </tr>\n    <tr>\n      <th>Centro</th>\n      <td>0.046729</td>\n    </tr>\n    <tr>\n      <th>Norte</th>\n      <td>0.166667</td>\n    </tr>\n    <tr>\n      <th>Oriente</th>\n      <td>0.029150</td>\n    </tr>\n    <tr>\n      <th>Sur</th>\n      <td>0.071651</td>\n    </tr>\n  </tbody>\n</table>\n</div>",
            "text/plain": "col_0       count\nzone             \nCapital  0.685803\nCentro   0.046729\nNorte    0.166667\nOriente  0.029150\nSur      0.071651"
          },
          "metadata": {}
        }
      ]
    },
    {
      "metadata": {},
      "cell_type": "markdown",
      "source": "# 3. Imputacion de Variables"
    },
    {
      "metadata": {
        "trusted": true
      },
      "cell_type": "code",
      "source": "# Revisar los valores perdidos\n#Creamos una funciÃ³n:\ndef num_missing(x):\n  return sum(x.isnull())\n\n#Aplicamos por columna:\nprint (\"Valores perdidos por columna\")\nprint (train.apply(num_missing, axis=0)) # Axis = 0 es vertical , axis =1 horizontal.",
      "execution_count": 14,
      "outputs": [
        {
          "output_type": "stream",
          "text": "Valores perdidos por columna\nID             0\nage           13\nincome         5\nmax_ant        4\nmonths         6\nscore          5\nzone           6\nlevel          0\nhouse_type     0\nrisk           0\ndtype: int64\n",
          "name": "stdout"
        }
      ]
    },
    {
      "metadata": {
        "trusted": true
      },
      "cell_type": "code",
      "source": "# Viendo las variables por tipo de datos\ntipos = train.columns.to_series().groupby(train.dtypes).groups\ntipos",
      "execution_count": 15,
      "outputs": [
        {
          "output_type": "execute_result",
          "execution_count": 15,
          "data": {
            "text/plain": "{dtype('int64'): Index(['ID', 'risk'], dtype='object'),\n dtype('float64'): Index(['age', 'income', 'max_ant', 'months', 'score'], dtype='object'),\n dtype('O'): Index(['zone', 'level', 'house_type'], dtype='object')}"
          },
          "metadata": {}
        }
      ]
    },
    {
      "metadata": {
        "trusted": true
      },
      "cell_type": "code",
      "source": "train['zone'] = train['zone'].replace({'Capital': 1,'Centro': 2, 'Norte': 3, 'Oriente': 4, 'Sur': 5})",
      "execution_count": 16,
      "outputs": []
    },
    {
      "metadata": {
        "trusted": true
      },
      "cell_type": "code",
      "source": "train['house_type'] = train['house_type'].replace({'Alquilada': 1,'Familiar': 2, 'Otras': 3, 'Propia': 4})",
      "execution_count": 17,
      "outputs": []
    },
    {
      "metadata": {
        "trusted": true
      },
      "cell_type": "code",
      "source": "train['level'] = train['level'].replace({'EdBasica': 1,'Profesional': 2, 'SinEducacion': 3, 'Superior': 4 , 'Tecnico': 5})",
      "execution_count": 18,
      "outputs": []
    },
    {
      "metadata": {
        "trusted": true
      },
      "cell_type": "code",
      "source": "train.head(5)",
      "execution_count": 19,
      "outputs": [
        {
          "output_type": "execute_result",
          "execution_count": 19,
          "data": {
            "text/html": "<div>\n<table border=\"1\" class=\"dataframe\">\n  <thead>\n    <tr style=\"text-align: right;\">\n      <th></th>\n      <th>ID</th>\n      <th>age</th>\n      <th>income</th>\n      <th>max_ant</th>\n      <th>months</th>\n      <th>score</th>\n      <th>zone</th>\n      <th>level</th>\n      <th>house_type</th>\n      <th>risk</th>\n    </tr>\n  </thead>\n  <tbody>\n    <tr>\n      <th>0</th>\n      <td>1540</td>\n      <td>38.0</td>\n      <td>5192.0</td>\n      <td>0.0</td>\n      <td>126.0</td>\n      <td>178.0</td>\n      <td>4.0</td>\n      <td>1</td>\n      <td>1</td>\n      <td>1</td>\n    </tr>\n    <tr>\n      <th>1</th>\n      <td>548</td>\n      <td>40.0</td>\n      <td>25389.0</td>\n      <td>35.0</td>\n      <td>263.0</td>\n      <td>172.0</td>\n      <td>1.0</td>\n      <td>2</td>\n      <td>1</td>\n      <td>0</td>\n    </tr>\n    <tr>\n      <th>2</th>\n      <td>784</td>\n      <td>53.0</td>\n      <td>22000.0</td>\n      <td>94.0</td>\n      <td>246.0</td>\n      <td>172.0</td>\n      <td>1.0</td>\n      <td>2</td>\n      <td>1</td>\n      <td>0</td>\n    </tr>\n    <tr>\n      <th>3</th>\n      <td>897</td>\n      <td>33.0</td>\n      <td>7250.0</td>\n      <td>46.0</td>\n      <td>132.0</td>\n      <td>182.0</td>\n      <td>1.0</td>\n      <td>2</td>\n      <td>1</td>\n      <td>0</td>\n    </tr>\n    <tr>\n      <th>4</th>\n      <td>968</td>\n      <td>43.0</td>\n      <td>16000.0</td>\n      <td>119.0</td>\n      <td>222.0</td>\n      <td>185.0</td>\n      <td>1.0</td>\n      <td>2</td>\n      <td>1</td>\n      <td>0</td>\n    </tr>\n  </tbody>\n</table>\n</div>",
            "text/plain": "     ID   age   income  max_ant  months  score  zone  level  house_type  risk\n0  1540  38.0   5192.0      0.0   126.0  178.0   4.0      1           1     1\n1   548  40.0  25389.0     35.0   263.0  172.0   1.0      2           1     0\n2   784  53.0  22000.0     94.0   246.0  172.0   1.0      2           1     0\n3   897  33.0   7250.0     46.0   132.0  182.0   1.0      2           1     0\n4   968  43.0  16000.0    119.0   222.0  185.0   1.0      2           1     0"
          },
          "metadata": {}
        }
      ]
    },
    {
      "metadata": {},
      "cell_type": "markdown",
      "source": "# 3.1 Imputacion Parametrica"
    },
    {
      "metadata": {
        "trusted": true
      },
      "cell_type": "code",
      "source": "train_parametrica=train.copy()",
      "execution_count": 20,
      "outputs": []
    },
    {
      "metadata": {
        "trusted": true
      },
      "cell_type": "code",
      "source": "# ImputaciÃ³n ParamÃ©trica\n# Para variables cuantitativas se puede usar medias o medianas, para las cualitativas moda.\n# Imputamos por las moda todas las variables cualitativas\nfrom scipy.stats import mode\n\nfor column in ['zone', 'level', 'house_type']:\n    train_parametrica[column] = train_parametrica[column].fillna(train_parametrica[column].mode()[0])\n\n# Imputamos por las moda todas las variables cuantitativas\n\nfor column in ['age', 'income', 'max_ant', 'months','score']:\n    train_parametrica[column] = train_parametrica[column].fillna(train_parametrica[column].median())    ",
      "execution_count": 21,
      "outputs": []
    },
    {
      "metadata": {
        "trusted": true
      },
      "cell_type": "code",
      "source": "# Revisar los valores perdidos\n#Aplicamos por columna:\nprint (\"Valores perdidos por columna\")\nprint (train_parametrica.apply(num_missing, axis=0)) ",
      "execution_count": 22,
      "outputs": [
        {
          "output_type": "stream",
          "text": "Valores perdidos por columna\nID            0\nage           0\nincome        0\nmax_ant       0\nmonths        0\nscore         0\nzone          0\nlevel         0\nhouse_type    0\nrisk          0\ndtype: int64\n",
          "name": "stdout"
        }
      ]
    },
    {
      "metadata": {
        "trusted": true
      },
      "cell_type": "code",
      "source": "# Le quitamos la variable Loan_ID \ntrain_parametrica = train_parametrica.drop('ID', axis=1)\ntrain_parametrica.shape",
      "execution_count": 24,
      "outputs": [
        {
          "output_type": "error",
          "ename": "ValueError",
          "evalue": "labels ['ID'] not contained in axis",
          "traceback": [
            "\u001b[0;31m---------------------------------------------------------------------------\u001b[0m",
            "\u001b[0;31mValueError\u001b[0m                                Traceback (most recent call last)",
            "\u001b[0;32m<ipython-input-24-f80625ea0366>\u001b[0m in \u001b[0;36m<module>\u001b[0;34m()\u001b[0m\n\u001b[1;32m      1\u001b[0m \u001b[0;31m# Le quitamos la variable Loan_ID\u001b[0m\u001b[0;34m\u001b[0m\u001b[0;34m\u001b[0m\u001b[0m\n\u001b[0;32m----> 2\u001b[0;31m \u001b[0mtrain_parametrica\u001b[0m \u001b[0;34m=\u001b[0m \u001b[0mtrain_parametrica\u001b[0m\u001b[0;34m.\u001b[0m\u001b[0mdrop\u001b[0m\u001b[0;34m(\u001b[0m\u001b[0;34m'ID'\u001b[0m\u001b[0;34m,\u001b[0m \u001b[0maxis\u001b[0m\u001b[0;34m=\u001b[0m\u001b[0;36m1\u001b[0m\u001b[0;34m)\u001b[0m\u001b[0;34m\u001b[0m\u001b[0m\n\u001b[0m\u001b[1;32m      3\u001b[0m \u001b[0mtrain_parametrica\u001b[0m\u001b[0;34m.\u001b[0m\u001b[0mshape\u001b[0m\u001b[0;34m\u001b[0m\u001b[0m\n",
            "\u001b[0;32m~/anaconda3_420/lib/python3.5/site-packages/pandas/core/generic.py\u001b[0m in \u001b[0;36mdrop\u001b[0;34m(self, labels, axis, level, inplace, errors)\u001b[0m\n\u001b[1;32m   1905\u001b[0m                 \u001b[0mnew_axis\u001b[0m \u001b[0;34m=\u001b[0m \u001b[0maxis\u001b[0m\u001b[0;34m.\u001b[0m\u001b[0mdrop\u001b[0m\u001b[0;34m(\u001b[0m\u001b[0mlabels\u001b[0m\u001b[0;34m,\u001b[0m \u001b[0mlevel\u001b[0m\u001b[0;34m=\u001b[0m\u001b[0mlevel\u001b[0m\u001b[0;34m,\u001b[0m \u001b[0merrors\u001b[0m\u001b[0;34m=\u001b[0m\u001b[0merrors\u001b[0m\u001b[0;34m)\u001b[0m\u001b[0;34m\u001b[0m\u001b[0m\n\u001b[1;32m   1906\u001b[0m             \u001b[0;32melse\u001b[0m\u001b[0;34m:\u001b[0m\u001b[0;34m\u001b[0m\u001b[0m\n\u001b[0;32m-> 1907\u001b[0;31m                 \u001b[0mnew_axis\u001b[0m \u001b[0;34m=\u001b[0m \u001b[0maxis\u001b[0m\u001b[0;34m.\u001b[0m\u001b[0mdrop\u001b[0m\u001b[0;34m(\u001b[0m\u001b[0mlabels\u001b[0m\u001b[0;34m,\u001b[0m \u001b[0merrors\u001b[0m\u001b[0;34m=\u001b[0m\u001b[0merrors\u001b[0m\u001b[0;34m)\u001b[0m\u001b[0;34m\u001b[0m\u001b[0m\n\u001b[0m\u001b[1;32m   1908\u001b[0m             \u001b[0mdropped\u001b[0m \u001b[0;34m=\u001b[0m \u001b[0mself\u001b[0m\u001b[0;34m.\u001b[0m\u001b[0mreindex\u001b[0m\u001b[0;34m(\u001b[0m\u001b[0;34m**\u001b[0m\u001b[0;34m{\u001b[0m\u001b[0maxis_name\u001b[0m\u001b[0;34m:\u001b[0m \u001b[0mnew_axis\u001b[0m\u001b[0;34m}\u001b[0m\u001b[0;34m)\u001b[0m\u001b[0;34m\u001b[0m\u001b[0m\n\u001b[1;32m   1909\u001b[0m             \u001b[0;32mtry\u001b[0m\u001b[0;34m:\u001b[0m\u001b[0;34m\u001b[0m\u001b[0m\n",
            "\u001b[0;32m~/anaconda3_420/lib/python3.5/site-packages/pandas/indexes/base.py\u001b[0m in \u001b[0;36mdrop\u001b[0;34m(self, labels, errors)\u001b[0m\n\u001b[1;32m   3260\u001b[0m             \u001b[0;32mif\u001b[0m \u001b[0merrors\u001b[0m \u001b[0;34m!=\u001b[0m \u001b[0;34m'ignore'\u001b[0m\u001b[0;34m:\u001b[0m\u001b[0;34m\u001b[0m\u001b[0m\n\u001b[1;32m   3261\u001b[0m                 raise ValueError('labels %s not contained in axis' %\n\u001b[0;32m-> 3262\u001b[0;31m                                  labels[mask])\n\u001b[0m\u001b[1;32m   3263\u001b[0m             \u001b[0mindexer\u001b[0m \u001b[0;34m=\u001b[0m \u001b[0mindexer\u001b[0m\u001b[0;34m[\u001b[0m\u001b[0;34m~\u001b[0m\u001b[0mmask\u001b[0m\u001b[0;34m]\u001b[0m\u001b[0;34m\u001b[0m\u001b[0m\n\u001b[1;32m   3264\u001b[0m         \u001b[0;32mreturn\u001b[0m \u001b[0mself\u001b[0m\u001b[0;34m.\u001b[0m\u001b[0mdelete\u001b[0m\u001b[0;34m(\u001b[0m\u001b[0mindexer\u001b[0m\u001b[0;34m)\u001b[0m\u001b[0;34m\u001b[0m\u001b[0m\n",
            "\u001b[0;31mValueError\u001b[0m: labels ['ID'] not contained in axis"
          ]
        }
      ]
    },
    {
      "metadata": {
        "trusted": true
      },
      "cell_type": "code",
      "source": "from sklearn.model_selection import train_test_split\nX_train, X_test, y_train, y_test = train_test_split(train_parametrica.drop('risk', axis=1), train_parametrica['risk'], test_size=0.30,\n                                                   random_state=100)",
      "execution_count": 25,
      "outputs": []
    },
    {
      "metadata": {
        "trusted": true
      },
      "cell_type": "code",
      "source": "# EL train y test lo concateno para poder mantener el mismo formato y codigo\ntrain_parametrica = pd.concat([X_train, y_train], axis=1)",
      "execution_count": 26,
      "outputs": []
    },
    {
      "metadata": {
        "trusted": true
      },
      "cell_type": "code",
      "source": "# Puedo corroborar que en mi data de train sigo teniendo el desbalance\ntrain_parametrica.risk.value_counts()",
      "execution_count": 27,
      "outputs": [
        {
          "output_type": "execute_result",
          "execution_count": 27,
          "data": {
            "text/plain": "1    2180\n0     970\nName: risk, dtype: int64"
          },
          "metadata": {}
        }
      ]
    },
    {
      "metadata": {},
      "cell_type": "markdown",
      "source": "# 4.Creacion de Variables"
    },
    {
      "metadata": {
        "trusted": true
      },
      "cell_type": "code",
      "source": "train_parametrica.head(5)",
      "execution_count": 28,
      "outputs": [
        {
          "output_type": "execute_result",
          "execution_count": 28,
          "data": {
            "text/html": "<div>\n<table border=\"1\" class=\"dataframe\">\n  <thead>\n    <tr style=\"text-align: right;\">\n      <th></th>\n      <th>age</th>\n      <th>income</th>\n      <th>max_ant</th>\n      <th>months</th>\n      <th>score</th>\n      <th>zone</th>\n      <th>level</th>\n      <th>house_type</th>\n      <th>risk</th>\n    </tr>\n  </thead>\n  <tbody>\n    <tr>\n      <th>2695</th>\n      <td>37.0</td>\n      <td>2234.00</td>\n      <td>22.0</td>\n      <td>190.0</td>\n      <td>194.0</td>\n      <td>1.0</td>\n      <td>5</td>\n      <td>2</td>\n      <td>1</td>\n    </tr>\n    <tr>\n      <th>1014</th>\n      <td>31.0</td>\n      <td>5536.00</td>\n      <td>47.0</td>\n      <td>198.0</td>\n      <td>193.0</td>\n      <td>1.0</td>\n      <td>2</td>\n      <td>2</td>\n      <td>1</td>\n    </tr>\n    <tr>\n      <th>663</th>\n      <td>32.0</td>\n      <td>2613.41</td>\n      <td>6.0</td>\n      <td>222.0</td>\n      <td>214.0</td>\n      <td>1.0</td>\n      <td>2</td>\n      <td>2</td>\n      <td>1</td>\n    </tr>\n    <tr>\n      <th>2251</th>\n      <td>23.0</td>\n      <td>900.00</td>\n      <td>0.0</td>\n      <td>123.0</td>\n      <td>156.0</td>\n      <td>1.0</td>\n      <td>5</td>\n      <td>2</td>\n      <td>1</td>\n    </tr>\n    <tr>\n      <th>3441</th>\n      <td>35.0</td>\n      <td>5637.00</td>\n      <td>24.0</td>\n      <td>264.0</td>\n      <td>235.0</td>\n      <td>1.0</td>\n      <td>2</td>\n      <td>4</td>\n      <td>0</td>\n    </tr>\n  </tbody>\n</table>\n</div>",
            "text/plain": "       age   income  max_ant  months  score  zone  level  house_type  risk\n2695  37.0  2234.00     22.0   190.0  194.0   1.0      5           2     1\n1014  31.0  5536.00     47.0   198.0  193.0   1.0      2           2     1\n663   32.0  2613.41      6.0   222.0  214.0   1.0      2           2     1\n2251  23.0   900.00      0.0   123.0  156.0   1.0      5           2     1\n3441  35.0  5637.00     24.0   264.0  235.0   1.0      2           4     0"
          },
          "metadata": {}
        }
      ]
    },
    {
      "metadata": {
        "trusted": true
      },
      "cell_type": "code",
      "source": "import numpy as np\n\n#Creamos las variables para el entrenamiento o train\ntrain_parametrica['age_log'] = round(np.log(train_parametrica['age']+1),2)\ntrain_parametrica['months_log'] = round(np.log(train_parametrica['months']+1),2)\ntrain_parametrica['max_ant_log'] = round(np.log(train_parametrica['max_ant']+1),2)\ntrain_parametrica['income_log'] = round(np.log(train_parametrica['income']+1),2)\ntrain_parametrica['house_type2'] = train['house_type'].replace({4: 1,1: 0, 2: 0, 3: 0})\n",
      "execution_count": 29,
      "outputs": []
    },
    {
      "metadata": {
        "trusted": true
      },
      "cell_type": "code",
      "source": "train_parametrica.head(5)",
      "execution_count": 30,
      "outputs": [
        {
          "output_type": "execute_result",
          "execution_count": 30,
          "data": {
            "text/html": "<div>\n<table border=\"1\" class=\"dataframe\">\n  <thead>\n    <tr style=\"text-align: right;\">\n      <th></th>\n      <th>age</th>\n      <th>income</th>\n      <th>max_ant</th>\n      <th>months</th>\n      <th>score</th>\n      <th>zone</th>\n      <th>level</th>\n      <th>house_type</th>\n      <th>risk</th>\n      <th>age_log</th>\n      <th>months_log</th>\n      <th>max_ant_log</th>\n      <th>income_log</th>\n      <th>house_type2</th>\n    </tr>\n  </thead>\n  <tbody>\n    <tr>\n      <th>2695</th>\n      <td>37.0</td>\n      <td>2234.00</td>\n      <td>22.0</td>\n      <td>190.0</td>\n      <td>194.0</td>\n      <td>1.0</td>\n      <td>5</td>\n      <td>2</td>\n      <td>1</td>\n      <td>3.64</td>\n      <td>5.25</td>\n      <td>3.14</td>\n      <td>7.71</td>\n      <td>0</td>\n    </tr>\n    <tr>\n      <th>1014</th>\n      <td>31.0</td>\n      <td>5536.00</td>\n      <td>47.0</td>\n      <td>198.0</td>\n      <td>193.0</td>\n      <td>1.0</td>\n      <td>2</td>\n      <td>2</td>\n      <td>1</td>\n      <td>3.47</td>\n      <td>5.29</td>\n      <td>3.87</td>\n      <td>8.62</td>\n      <td>0</td>\n    </tr>\n    <tr>\n      <th>663</th>\n      <td>32.0</td>\n      <td>2613.41</td>\n      <td>6.0</td>\n      <td>222.0</td>\n      <td>214.0</td>\n      <td>1.0</td>\n      <td>2</td>\n      <td>2</td>\n      <td>1</td>\n      <td>3.50</td>\n      <td>5.41</td>\n      <td>1.95</td>\n      <td>7.87</td>\n      <td>0</td>\n    </tr>\n    <tr>\n      <th>2251</th>\n      <td>23.0</td>\n      <td>900.00</td>\n      <td>0.0</td>\n      <td>123.0</td>\n      <td>156.0</td>\n      <td>1.0</td>\n      <td>5</td>\n      <td>2</td>\n      <td>1</td>\n      <td>3.18</td>\n      <td>4.82</td>\n      <td>0.00</td>\n      <td>6.80</td>\n      <td>0</td>\n    </tr>\n    <tr>\n      <th>3441</th>\n      <td>35.0</td>\n      <td>5637.00</td>\n      <td>24.0</td>\n      <td>264.0</td>\n      <td>235.0</td>\n      <td>1.0</td>\n      <td>2</td>\n      <td>4</td>\n      <td>0</td>\n      <td>3.58</td>\n      <td>5.58</td>\n      <td>3.22</td>\n      <td>8.64</td>\n      <td>1</td>\n    </tr>\n  </tbody>\n</table>\n</div>",
            "text/plain": "       age   income  max_ant  months  score  zone  level  house_type  risk  \\\n2695  37.0  2234.00     22.0   190.0  194.0   1.0      5           2     1   \n1014  31.0  5536.00     47.0   198.0  193.0   1.0      2           2     1   \n663   32.0  2613.41      6.0   222.0  214.0   1.0      2           2     1   \n2251  23.0   900.00      0.0   123.0  156.0   1.0      5           2     1   \n3441  35.0  5637.00     24.0   264.0  235.0   1.0      2           4     0   \n\n      age_log  months_log  max_ant_log  income_log  house_type2  \n2695     3.64        5.25         3.14        7.71            0  \n1014     3.47        5.29         3.87        8.62            0  \n663      3.50        5.41         1.95        7.87            0  \n2251     3.18        4.82         0.00        6.80            0  \n3441     3.58        5.58         3.22        8.64            1  "
          },
          "metadata": {}
        }
      ]
    },
    {
      "metadata": {
        "trusted": true
      },
      "cell_type": "code",
      "source": "train_parametrica.risk.value_counts() ##AÃºn veo el desbalance de los datos",
      "execution_count": 31,
      "outputs": [
        {
          "output_type": "execute_result",
          "execution_count": 31,
          "data": {
            "text/plain": "1    2180\n0     970\nName: risk, dtype: int64"
          },
          "metadata": {}
        }
      ]
    },
    {
      "metadata": {},
      "cell_type": "markdown",
      "source": "# 5. Balanceo de Datos"
    },
    {
      "metadata": {
        "trusted": false
      },
      "cell_type": "code",
      "source": "## Podemos hacer el balanceo de manera artesanal , para entender las lÃ³gicas.\n\nimport numpy as np\nimport pandas as pd\nimport seaborn as sns\n\ntarget_count = train_parametrica.risk.value_counts()\nprint('Clase 0:', target_count[0])\nprint('Clase 1:', target_count[1])\n\nprint('Proportion Clase 0:', round(target_count[0] / (target_count[0]+target_count[1]), 2), ': 0')\nprint('Proportion Clase 1:', round(target_count[1] / (target_count[0]+target_count[1]), 2), ': 1')\n\n\ntarget_count.plot(kind='bar', title='Count (target)');\n\n",
      "execution_count": 43,
      "outputs": [
        {
          "output_type": "stream",
          "name": "stderr",
          "text": "/home/nbuser/anaconda3_23/lib/python3.4/site-packages/IPython/html.py:14: ShimWarning: The `IPython.html` package has been deprecated. You should import from `notebook` instead. `IPython.html.widgets` has moved to `ipywidgets`.\n  \"`IPython.html.widgets` has moved to `ipywidgets`.\", ShimWarning)\n"
        },
        {
          "output_type": "stream",
          "name": "stdout",
          "text": "Clase 0: 970\nClase 1: 2180\nProportion Clase 0: 0.31 : 0\nProportion Clase 1: 0.69 : 1\n"
        },
        {
          "output_type": "display_data",
          "data": {
            "image/png": "[encoded data removed]",
            "text/plain": "<matplotlib.figure.Figure at 0x7f68d424ae80>"
          },
          "metadata": {}
        }
      ]
    },
    {
      "metadata": {
        "trusted": false
      },
      "cell_type": "code",
      "source": "# Conteo de las Clases\n# La clase 1 es la de los prÃ©stamos otorgados , tenemos 422 prÃ©stamos otorgados\n# La clase 0 es la de los prÃ©stamos no otorgados , tenemos 192 prÃ©stamos no otorgados\ncount_class_1,count_class_0 = train_parametrica.risk.value_counts()\n\n# Dividimos las Clases\ndf_class_0 = train_parametrica[train_parametrica['risk'] == 0]\ndf_class_1 = train_parametrica[train_parametrica['risk'] == 1]\n\n## Podemos visualizar el contenido del objeto df_class_1.head(5)",
      "execution_count": 44,
      "outputs": []
    },
    {
      "metadata": {},
      "cell_type": "markdown",
      "source": "# 5.1 Undersampling"
    },
    {
      "metadata": {
        "trusted": false
      },
      "cell_type": "code",
      "source": "# Definimos una nueva variable llamada df_class_1_under la cual nos da un muestreo de la clase 1 dependiendo del nÃºmero de \n# elementos de la clase 0.\ndf_class_1_under = df_class_1.sample(count_class_0)\ndf_balanceado_under = pd.concat([df_class_1_under, df_class_0], axis=0)\n\nprint('Random under-sampling:')\nprint(df_balanceado_under.risk.value_counts())\n\ndf_balanceado_under.risk.value_counts().plot(kind='bar', title='Count (target)');",
      "execution_count": 45,
      "outputs": [
        {
          "output_type": "stream",
          "name": "stdout",
          "text": "Random under-sampling:\n1    970\n0    970\nName: risk, dtype: int64\n"
        },
        {
          "output_type": "display_data",
          "data": {
            "image/png": "[encoded data removed]",
            "text/plain": "<matplotlib.figure.Figure at 0x7f68d43ffeb8>"
          },
          "metadata": {}
        }
      ]
    },
    {
      "metadata": {
        "trusted": false
      },
      "cell_type": "code",
      "source": "# Podemos usar el dataset generado por undersampling para aplicar todos los algoritmos deseados\ndf_balanceado_under.head(3)",
      "execution_count": 46,
      "outputs": [
        {
          "execution_count": 46,
          "output_type": "execute_result",
          "data": {
            "text/plain": "       age  income  max_ant  months  score  zone  level  house_type  risk  \\\n4492  30.0  1150.0     12.0   198.0  194.0   5.0    5.0           4     1   \n2658  39.0   700.0      0.0   232.0  178.0   1.0    5.0           2     1   \n1581  31.0  1000.0      0.0   222.0  208.0   3.0    2.0           2     1   \n\n      age_log  months_log  max_ant_log  income_log  house_type2  \n4492     3.43        5.29         2.56        7.05            1  \n2658     3.69        5.45         0.00        6.55            0  \n1581     3.47        5.41         0.00        6.91            0  ",
            "text/html": "<div>\n<table border=\"1\" class=\"dataframe\">\n  <thead>\n    <tr style=\"text-align: right;\">\n      <th></th>\n      <th>age</th>\n      <th>income</th>\n      <th>max_ant</th>\n      <th>months</th>\n      <th>score</th>\n      <th>zone</th>\n      <th>level</th>\n      <th>house_type</th>\n      <th>risk</th>\n      <th>age_log</th>\n      <th>months_log</th>\n      <th>max_ant_log</th>\n      <th>income_log</th>\n      <th>house_type2</th>\n    </tr>\n  </thead>\n  <tbody>\n    <tr>\n      <th>4492</th>\n      <td>30.0</td>\n      <td>1150.0</td>\n      <td>12.0</td>\n      <td>198.0</td>\n      <td>194.0</td>\n      <td>5.0</td>\n      <td>5.0</td>\n      <td>4</td>\n      <td>1</td>\n      <td>3.43</td>\n      <td>5.29</td>\n      <td>2.56</td>\n      <td>7.05</td>\n      <td>1</td>\n    </tr>\n    <tr>\n      <th>2658</th>\n      <td>39.0</td>\n      <td>700.0</td>\n      <td>0.0</td>\n      <td>232.0</td>\n      <td>178.0</td>\n      <td>1.0</td>\n      <td>5.0</td>\n      <td>2</td>\n      <td>1</td>\n      <td>3.69</td>\n      <td>5.45</td>\n      <td>0.00</td>\n      <td>6.55</td>\n      <td>0</td>\n    </tr>\n    <tr>\n      <th>1581</th>\n      <td>31.0</td>\n      <td>1000.0</td>\n      <td>0.0</td>\n      <td>222.0</td>\n      <td>208.0</td>\n      <td>3.0</td>\n      <td>2.0</td>\n      <td>2</td>\n      <td>1</td>\n      <td>3.47</td>\n      <td>5.41</td>\n      <td>0.00</td>\n      <td>6.91</td>\n      <td>0</td>\n    </tr>\n  </tbody>\n</table>\n</div>"
          },
          "metadata": {}
        }
      ]
    },
    {
      "metadata": {},
      "cell_type": "markdown",
      "source": "# 5.2 Oversampling"
    },
    {
      "metadata": {
        "trusted": false
      },
      "cell_type": "code",
      "source": "# Leemos la lÃ³gica : Del dataset de la clase 0 , sacamos una muestra de tamaÃ±o 422 con reemplazo.\ndf_class_0_over = df_class_0.sample(count_class_1, replace=True)\ndf_balanceado_over = pd.concat([df_class_1, df_class_0_over], axis=0)\n\nprint('Random over-sampling:')\nprint(df_balanceado_over.risk.value_counts())\n\ndf_balanceado_over.risk.value_counts().plot(kind='bar', title='Count (target)');\ndf_balanceado_over.head(2)",
      "execution_count": 47,
      "outputs": [
        {
          "output_type": "stream",
          "name": "stdout",
          "text": "Random over-sampling:\n1    2180\n0    2180\nName: risk, dtype: int64\n"
        },
        {
          "execution_count": 47,
          "output_type": "execute_result",
          "data": {
            "text/plain": "       age  income  max_ant  months  score  zone  level  house_type  risk  \\\n2695  37.0  2234.0     22.0   190.0  194.0   1.0    5.0           2     1   \n1014  31.0  5536.0     47.0   198.0  193.0   1.0    2.0           2     1   \n\n      age_log  months_log  max_ant_log  income_log  house_type2  \n2695     3.64        5.25         3.14        7.71            0  \n1014     3.47        5.29         3.87        8.62            0  ",
            "text/html": "<div>\n<table border=\"1\" class=\"dataframe\">\n  <thead>\n    <tr style=\"text-align: right;\">\n      <th></th>\n      <th>age</th>\n      <th>income</th>\n      <th>max_ant</th>\n      <th>months</th>\n      <th>score</th>\n      <th>zone</th>\n      <th>level</th>\n      <th>house_type</th>\n      <th>risk</th>\n      <th>age_log</th>\n      <th>months_log</th>\n      <th>max_ant_log</th>\n      <th>income_log</th>\n      <th>house_type2</th>\n    </tr>\n  </thead>\n  <tbody>\n    <tr>\n      <th>2695</th>\n      <td>37.0</td>\n      <td>2234.0</td>\n      <td>22.0</td>\n      <td>190.0</td>\n      <td>194.0</td>\n      <td>1.0</td>\n      <td>5.0</td>\n      <td>2</td>\n      <td>1</td>\n      <td>3.64</td>\n      <td>5.25</td>\n      <td>3.14</td>\n      <td>7.71</td>\n      <td>0</td>\n    </tr>\n    <tr>\n      <th>1014</th>\n      <td>31.0</td>\n      <td>5536.0</td>\n      <td>47.0</td>\n      <td>198.0</td>\n      <td>193.0</td>\n      <td>1.0</td>\n      <td>2.0</td>\n      <td>2</td>\n      <td>1</td>\n      <td>3.47</td>\n      <td>5.29</td>\n      <td>3.87</td>\n      <td>8.62</td>\n      <td>0</td>\n    </tr>\n  </tbody>\n</table>\n</div>"
          },
          "metadata": {}
        },
        {
          "output_type": "display_data",
          "data": {
            "image/png": "[encoded data removed]",
            "text/plain": "<matplotlib.figure.Figure at 0x7f68d4262908>"
          },
          "metadata": {}
        }
      ]
    },
    {
      "metadata": {},
      "cell_type": "markdown",
      "source": "# 5.3 Random Oversampling"
    },
    {
      "metadata": {
        "trusted": false
      },
      "cell_type": "code",
      "source": "# Creamos nuestra matriz de datos o variables independientes y \n# nuestro vector columna con la variable independiente\n#train_parametrica = train_parametrica.drop('Loan_ID', axis=1)\nX, y = train_parametrica.drop('risk', axis=1), train_parametrica['risk']",
      "execution_count": 96,
      "outputs": []
    },
    {
      "metadata": {
        "trusted": false
      },
      "cell_type": "code",
      "source": "!pip install imblearn",
      "execution_count": 97,
      "outputs": [
        {
          "output_type": "stream",
          "name": "stdout",
          "text": "Requirement already satisfied: imblearn in /home/nbuser/anaconda3_23/lib/python3.4/site-packages\nRequirement already satisfied: imbalanced-learn in /home/nbuser/anaconda3_23/lib/python3.4/site-packages (from imblearn)\nRequirement already satisfied: scipy>=0.13.3 in /home/nbuser/anaconda3_23/lib/python3.4/site-packages (from imbalanced-learn->imblearn)\nRequirement already satisfied: scikit-learn>=0.20 in /home/nbuser/anaconda3_23/lib/python3.4/site-packages (from imbalanced-learn->imblearn)\nRequirement already satisfied: numpy>=1.8.2 in /home/nbuser/anaconda3_23/lib/python3.4/site-packages (from imbalanced-learn->imblearn)\n"
        }
      ]
    },
    {
      "metadata": {
        "trusted": false
      },
      "cell_type": "code",
      "source": "import numpy as np\nimport pandas as pd\nfrom imblearn.over_sampling import RandomOverSampler\n\nros = RandomOverSampler()\nX_ros, y_ros = ros.fit_sample(X, y)\n\n# Tenemos identificados los nombres de las columnas para el dataframe\ncolumns_X = ['age','income','max_ant','months','score','zone','level','house_type','age_log','months_log','max_ant_log','income_log','house_type2']\ncolumns_y = ['risk']\n\ndf_X_ros = pd.DataFrame(data=X_ros,columns=columns_X)\ndf_y_ros = pd.DataFrame(data=y_ros,columns=columns_y)\n\n# Concatenamos la informaciÃ³n\ndf_balanceado_ros = pd.concat([df_X_ros, df_y_ros], axis=1)",
      "execution_count": 99,
      "outputs": []
    },
    {
      "metadata": {
        "trusted": false
      },
      "cell_type": "code",
      "source": "df_balanceado_ros.risk.value_counts()",
      "execution_count": 100,
      "outputs": [
        {
          "execution_count": 100,
          "output_type": "execute_result",
          "data": {
            "text/plain": "1    2180\n0    2180\nName: risk, dtype: int64"
          },
          "metadata": {}
        }
      ]
    },
    {
      "metadata": {},
      "cell_type": "markdown",
      "source": "# 6. Seleccion de Variables"
    },
    {
      "metadata": {
        "trusted": false
      },
      "cell_type": "code",
      "source": "# Feature Extraction with Univariate Statistical Tests (Chi-squared for classification)\nimport pandas as pd\nimport numpy as np\nimport matplotlib.pyplot as plt\nfrom sklearn import metrics\nfrom sklearn import datasets\nimport pandas\nimport numpy\nfrom sklearn.feature_selection import SelectKBest\nfrom sklearn.feature_selection import chi2\n\n# feature extraction\ntest = SelectKBest(score_func=chi2, k=4)\nfit = test.fit(X_ros, y_ros)\n",
      "execution_count": 101,
      "outputs": []
    },
    {
      "metadata": {
        "trusted": false
      },
      "cell_type": "code",
      "source": "# summarize scores\nnumpy.set_printoptions(precision=3)\nprint(fit.scores_*100)\n",
      "execution_count": 102,
      "outputs": [
        {
          "output_type": "stream",
          "name": "stdout",
          "text": "[  2.280e+04   1.075e+08   1.483e+06   3.889e+05   6.406e+04   2.167e+02\n   1.090e+04   8.320e+02   1.677e+02   2.838e+02   4.544e+04   3.385e+03\n   1.944e+03]\n"
        }
      ]
    },
    {
      "metadata": {
        "trusted": false
      },
      "cell_type": "code",
      "source": "# horizontal bar plot of feature importance\npos = np.arange(15)+0.5 ",
      "execution_count": 103,
      "outputs": []
    },
    {
      "metadata": {
        "trusted": false
      },
      "cell_type": "code",
      "source": "plt.barh(pos, fit.scores_*10, align='center')\nplt.title(\"Feature Importance\")\nplt.xlabel(\"Model chi2\")\nplt.ylabel(\"Features\")\nplt.yticks(pos, ('ID','age','income','max_ant','months','score','zone','level','house_type','age_log','months_log','max_ant_log','income_log','house_type2'))\nplt.grid(True)",
      "execution_count": 104,
      "outputs": [
        {
          "ename": "ValueError",
          "evalue": "incompatible sizes: argument 'width' must be length 15 or scalar",
          "traceback": [
            "\u001b[0;31m---------------------------------------------------------------------------\u001b[0m",
            "\u001b[0;31mValueError\u001b[0m                                Traceback (most recent call last)",
            "\u001b[0;32m<ipython-input-104-5eabd576cf24>\u001b[0m in \u001b[0;36m<module>\u001b[0;34m()\u001b[0m\n\u001b[0;32m----> 1\u001b[0;31m \u001b[0mplt\u001b[0m\u001b[0;34m.\u001b[0m\u001b[0mbarh\u001b[0m\u001b[0;34m(\u001b[0m\u001b[0mpos\u001b[0m\u001b[0;34m,\u001b[0m \u001b[0mfit\u001b[0m\u001b[0;34m.\u001b[0m\u001b[0mscores_\u001b[0m\u001b[0;34m*\u001b[0m\u001b[0;36m10\u001b[0m\u001b[0;34m,\u001b[0m \u001b[0malign\u001b[0m\u001b[0;34m=\u001b[0m\u001b[0;34m'center'\u001b[0m\u001b[0;34m)\u001b[0m\u001b[0;34m\u001b[0m\u001b[0m\n\u001b[0m\u001b[1;32m      2\u001b[0m \u001b[0mplt\u001b[0m\u001b[0;34m.\u001b[0m\u001b[0mtitle\u001b[0m\u001b[0;34m(\u001b[0m\u001b[0;34m\"Feature Importance\"\u001b[0m\u001b[0;34m)\u001b[0m\u001b[0;34m\u001b[0m\u001b[0m\n\u001b[1;32m      3\u001b[0m \u001b[0mplt\u001b[0m\u001b[0;34m.\u001b[0m\u001b[0mxlabel\u001b[0m\u001b[0;34m(\u001b[0m\u001b[0;34m\"Model chi2\"\u001b[0m\u001b[0;34m)\u001b[0m\u001b[0;34m\u001b[0m\u001b[0m\n\u001b[1;32m      4\u001b[0m \u001b[0mplt\u001b[0m\u001b[0;34m.\u001b[0m\u001b[0mylabel\u001b[0m\u001b[0;34m(\u001b[0m\u001b[0;34m\"Features\"\u001b[0m\u001b[0;34m)\u001b[0m\u001b[0;34m\u001b[0m\u001b[0m\n\u001b[1;32m      5\u001b[0m \u001b[0mplt\u001b[0m\u001b[0;34m.\u001b[0m\u001b[0myticks\u001b[0m\u001b[0;34m(\u001b[0m\u001b[0mpos\u001b[0m\u001b[0;34m,\u001b[0m \u001b[0;34m(\u001b[0m\u001b[0;34m'ID'\u001b[0m\u001b[0;34m,\u001b[0m\u001b[0;34m'age'\u001b[0m\u001b[0;34m,\u001b[0m\u001b[0;34m'income'\u001b[0m\u001b[0;34m,\u001b[0m\u001b[0;34m'max_ant'\u001b[0m\u001b[0;34m,\u001b[0m\u001b[0;34m'months'\u001b[0m\u001b[0;34m,\u001b[0m\u001b[0;34m'score'\u001b[0m\u001b[0;34m,\u001b[0m\u001b[0;34m'zone'\u001b[0m\u001b[0;34m,\u001b[0m\u001b[0;34m'level'\u001b[0m\u001b[0;34m,\u001b[0m\u001b[0;34m'house_type'\u001b[0m\u001b[0;34m,\u001b[0m\u001b[0;34m'age_log'\u001b[0m\u001b[0;34m,\u001b[0m\u001b[0;34m'months_log'\u001b[0m\u001b[0;34m,\u001b[0m\u001b[0;34m'max_ant_log'\u001b[0m\u001b[0;34m,\u001b[0m\u001b[0;34m'income_log'\u001b[0m\u001b[0;34m,\u001b[0m\u001b[0;34m'house_type2'\u001b[0m\u001b[0;34m)\u001b[0m\u001b[0;34m)\u001b[0m\u001b[0;34m\u001b[0m\u001b[0m\n",
            "\u001b[0;32m/home/nbuser/anaconda3_23/lib/python3.4/site-packages/matplotlib/pyplot.py\u001b[0m in \u001b[0;36mbarh\u001b[0;34m(bottom, width, height, left, hold, **kwargs)\u001b[0m\n\u001b[1;32m   2658\u001b[0m         \u001b[0max\u001b[0m\u001b[0;34m.\u001b[0m\u001b[0mhold\u001b[0m\u001b[0;34m(\u001b[0m\u001b[0mhold\u001b[0m\u001b[0;34m)\u001b[0m\u001b[0;34m\u001b[0m\u001b[0m\n\u001b[1;32m   2659\u001b[0m     \u001b[0;32mtry\u001b[0m\u001b[0;34m:\u001b[0m\u001b[0;34m\u001b[0m\u001b[0m\n\u001b[0;32m-> 2660\u001b[0;31m         \u001b[0mret\u001b[0m \u001b[0;34m=\u001b[0m \u001b[0max\u001b[0m\u001b[0;34m.\u001b[0m\u001b[0mbarh\u001b[0m\u001b[0;34m(\u001b[0m\u001b[0mbottom\u001b[0m\u001b[0;34m,\u001b[0m \u001b[0mwidth\u001b[0m\u001b[0;34m,\u001b[0m \u001b[0mheight\u001b[0m\u001b[0;34m=\u001b[0m\u001b[0mheight\u001b[0m\u001b[0;34m,\u001b[0m \u001b[0mleft\u001b[0m\u001b[0;34m=\u001b[0m\u001b[0mleft\u001b[0m\u001b[0;34m,\u001b[0m \u001b[0;34m**\u001b[0m\u001b[0mkwargs\u001b[0m\u001b[0;34m)\u001b[0m\u001b[0;34m\u001b[0m\u001b[0m\n\u001b[0m\u001b[1;32m   2661\u001b[0m     \u001b[0;32mfinally\u001b[0m\u001b[0;34m:\u001b[0m\u001b[0;34m\u001b[0m\u001b[0m\n\u001b[1;32m   2662\u001b[0m         \u001b[0max\u001b[0m\u001b[0;34m.\u001b[0m\u001b[0mhold\u001b[0m\u001b[0;34m(\u001b[0m\u001b[0mwashold\u001b[0m\u001b[0;34m)\u001b[0m\u001b[0;34m\u001b[0m\u001b[0m\n",
            "\u001b[0;32m/home/nbuser/anaconda3_23/lib/python3.4/site-packages/matplotlib/axes/_axes.py\u001b[0m in \u001b[0;36mbarh\u001b[0;34m(self, bottom, width, height, left, **kwargs)\u001b[0m\n\u001b[1;32m   2287\u001b[0m \u001b[0;34m\u001b[0m\u001b[0m\n\u001b[1;32m   2288\u001b[0m         patches = self.bar(left=left, height=height, width=width,\n\u001b[0;32m-> 2289\u001b[0;31m                            bottom=bottom, orientation='horizontal', **kwargs)\n\u001b[0m\u001b[1;32m   2290\u001b[0m         \u001b[0;32mreturn\u001b[0m \u001b[0mpatches\u001b[0m\u001b[0;34m\u001b[0m\u001b[0m\n\u001b[1;32m   2291\u001b[0m \u001b[0;34m\u001b[0m\u001b[0m\n",
            "\u001b[0;32m/home/nbuser/anaconda3_23/lib/python3.4/site-packages/matplotlib/__init__.py\u001b[0m in \u001b[0;36minner\u001b[0;34m(ax, *args, **kwargs)\u001b[0m\n\u001b[1;32m   1810\u001b[0m                     warnings.warn(msg % (label_namer, func.__name__),\n\u001b[1;32m   1811\u001b[0m                                   RuntimeWarning, stacklevel=2)\n\u001b[0;32m-> 1812\u001b[0;31m             \u001b[0;32mreturn\u001b[0m \u001b[0mfunc\u001b[0m\u001b[0;34m(\u001b[0m\u001b[0max\u001b[0m\u001b[0;34m,\u001b[0m \u001b[0;34m*\u001b[0m\u001b[0margs\u001b[0m\u001b[0;34m,\u001b[0m \u001b[0;34m**\u001b[0m\u001b[0mkwargs\u001b[0m\u001b[0;34m)\u001b[0m\u001b[0;34m\u001b[0m\u001b[0m\n\u001b[0m\u001b[1;32m   1813\u001b[0m         \u001b[0mpre_doc\u001b[0m \u001b[0;34m=\u001b[0m \u001b[0minner\u001b[0m\u001b[0;34m.\u001b[0m\u001b[0m__doc__\u001b[0m\u001b[0;34m\u001b[0m\u001b[0m\n\u001b[1;32m   1814\u001b[0m         \u001b[0;32mif\u001b[0m \u001b[0mpre_doc\u001b[0m \u001b[0;32mis\u001b[0m \u001b[0;32mNone\u001b[0m\u001b[0;34m:\u001b[0m\u001b[0;34m\u001b[0m\u001b[0m\n",
            "\u001b[0;32m/home/nbuser/anaconda3_23/lib/python3.4/site-packages/matplotlib/axes/_axes.py\u001b[0m in \u001b[0;36mbar\u001b[0;34m(self, left, height, width, bottom, **kwargs)\u001b[0m\n\u001b[1;32m   2081\u001b[0m         \u001b[0;32mif\u001b[0m \u001b[0mlen\u001b[0m\u001b[0;34m(\u001b[0m\u001b[0mwidth\u001b[0m\u001b[0;34m)\u001b[0m \u001b[0;34m!=\u001b[0m \u001b[0mnbars\u001b[0m\u001b[0;34m:\u001b[0m\u001b[0;34m\u001b[0m\u001b[0m\n\u001b[1;32m   2082\u001b[0m             raise ValueError(\"incompatible sizes: argument 'width' \"\n\u001b[0;32m-> 2083\u001b[0;31m                              \"must be length %d or scalar\" % nbars)\n\u001b[0m\u001b[1;32m   2084\u001b[0m         \u001b[0;32mif\u001b[0m \u001b[0mlen\u001b[0m\u001b[0;34m(\u001b[0m\u001b[0mbottom\u001b[0m\u001b[0;34m)\u001b[0m \u001b[0;34m!=\u001b[0m \u001b[0mnbars\u001b[0m\u001b[0;34m:\u001b[0m\u001b[0;34m\u001b[0m\u001b[0m\n\u001b[1;32m   2085\u001b[0m             raise ValueError(\"incompatible sizes: argument 'bottom' \"\n",
            "\u001b[0;31mValueError\u001b[0m: incompatible sizes: argument 'width' must be length 15 or scalar"
          ],
          "output_type": "error"
        },
        {
          "output_type": "display_data",
          "data": {
            "image/png": "[encoded data removed]",
            "text/plain": "<matplotlib.figure.Figure at 0x7fb2c2addbe0>"
          },
          "metadata": {}
        }
      ]
    },
    {
      "metadata": {},
      "cell_type": "markdown",
      "source": "# 7. Modelado de Datos"
    },
    {
      "metadata": {
        "trusted": false
      },
      "cell_type": "code",
      "source": "import pandas as pd\nfrom sklearn import datasets, linear_model\nfrom matplotlib import pyplot as plt",
      "execution_count": 105,
      "outputs": []
    },
    {
      "metadata": {
        "trusted": false
      },
      "cell_type": "code",
      "source": "# ESTA ES LA PARTE MAS IMPORTANTE DE MODELAR\n# Creamos la matriz de variables independientes X (VI)y el vector columna de VD loan_Amount_Log no son relevantes por ende \n# podemos prescindir de alguna de ellas\n# Pudimos observar en el feature selection que las variables Loan_Amount_Term y LoanAmount_Log\ndf_balanceado_ros2 = df_balanceado_ros[['age','income','max_ant','months','score','zone','level','house_type','age_log','months_log','max_ant_log','income_log','house_type2','risk']]#,df_balanceado_smt['Loan_Status'] #Axis = 1 por columnas\n",
      "execution_count": 107,
      "outputs": []
    },
    {
      "metadata": {
        "trusted": false
      },
      "cell_type": "code",
      "source": "# CreaciÃ³n de la data de train, separando o haciendo un split de nuestra informaciÃ³n\nX_train =df_balanceado_ros2.drop('risk',axis=1)\ny_train = df_balanceado_ros2['risk']",
      "execution_count": 108,
      "outputs": []
    },
    {
      "metadata": {
        "trusted": false
      },
      "cell_type": "code",
      "source": "from sklearn.linear_model import LogisticRegression\nfrom sklearn.metrics import (precision_score, recall_score,f1_score,accuracy_score)\n\nlr = LogisticRegression()\nlr.fit(X_train, y_train) # Entrenami",
      "execution_count": 109,
      "outputs": [
        {
          "output_type": "stream",
          "name": "stderr",
          "text": "/home/nbuser/anaconda3_23/lib/python3.4/site-packages/sklearn/linear_model/logistic.py:433: FutureWarning: Default solver will be changed to 'lbfgs' in 0.22. Specify a solver to silence this warning.\n  FutureWarning)\n"
        },
        {
          "execution_count": 109,
          "output_type": "execute_result",
          "data": {
            "text/plain": "LogisticRegression(C=1.0, class_weight=None, dual=False, fit_intercept=True,\n          intercept_scaling=1, max_iter=100, multi_class='warn',\n          n_jobs=None, penalty='l2', random_state=None, solver='warn',\n          tol=0.0001, verbose=0, warm_start=False)"
          },
          "metadata": {}
        }
      ]
    },
    {
      "metadata": {
        "trusted": false
      },
      "cell_type": "code",
      "source": "y_pred=lr.predict(X_test) # Prediccion sobre el test",
      "execution_count": 110,
      "outputs": [
        {
          "ename": "ValueError",
          "evalue": "X has 8 features per sample; expecting 13",
          "traceback": [
            "\u001b[0;31m---------------------------------------------------------------------------\u001b[0m",
            "\u001b[0;31mValueError\u001b[0m                                Traceback (most recent call last)",
            "\u001b[0;32m<ipython-input-110-87f76343d211>\u001b[0m in \u001b[0;36m<module>\u001b[0;34m()\u001b[0m\n\u001b[0;32m----> 1\u001b[0;31m \u001b[0my_pred\u001b[0m\u001b[0;34m=\u001b[0m\u001b[0mlr\u001b[0m\u001b[0;34m.\u001b[0m\u001b[0mpredict\u001b[0m\u001b[0;34m(\u001b[0m\u001b[0mX_test\u001b[0m\u001b[0;34m)\u001b[0m \u001b[0;31m# Prediccion sobre el test\u001b[0m\u001b[0;34m\u001b[0m\u001b[0m\n\u001b[0m",
            "\u001b[0;32m/home/nbuser/anaconda3_23/lib/python3.4/site-packages/sklearn/linear_model/base.py\u001b[0m in \u001b[0;36mpredict\u001b[0;34m(self, X)\u001b[0m\n\u001b[1;32m    279\u001b[0m             \u001b[0mPredicted\u001b[0m \u001b[0;32mclass\u001b[0m \u001b[0mlabel\u001b[0m \u001b[0mper\u001b[0m \u001b[0msample\u001b[0m\u001b[0;34m.\u001b[0m\u001b[0;34m\u001b[0m\u001b[0m\n\u001b[1;32m    280\u001b[0m         \"\"\"\n\u001b[0;32m--> 281\u001b[0;31m         \u001b[0mscores\u001b[0m \u001b[0;34m=\u001b[0m \u001b[0mself\u001b[0m\u001b[0;34m.\u001b[0m\u001b[0mdecision_function\u001b[0m\u001b[0;34m(\u001b[0m\u001b[0mX\u001b[0m\u001b[0;34m)\u001b[0m\u001b[0;34m\u001b[0m\u001b[0m\n\u001b[0m\u001b[1;32m    282\u001b[0m         \u001b[0;32mif\u001b[0m \u001b[0mlen\u001b[0m\u001b[0;34m(\u001b[0m\u001b[0mscores\u001b[0m\u001b[0;34m.\u001b[0m\u001b[0mshape\u001b[0m\u001b[0;34m)\u001b[0m \u001b[0;34m==\u001b[0m \u001b[0;36m1\u001b[0m\u001b[0;34m:\u001b[0m\u001b[0;34m\u001b[0m\u001b[0m\n\u001b[1;32m    283\u001b[0m             \u001b[0mindices\u001b[0m \u001b[0;34m=\u001b[0m \u001b[0;34m(\u001b[0m\u001b[0mscores\u001b[0m \u001b[0;34m>\u001b[0m \u001b[0;36m0\u001b[0m\u001b[0;34m)\u001b[0m\u001b[0;34m.\u001b[0m\u001b[0mastype\u001b[0m\u001b[0;34m(\u001b[0m\u001b[0mnp\u001b[0m\u001b[0;34m.\u001b[0m\u001b[0mint\u001b[0m\u001b[0;34m)\u001b[0m\u001b[0;34m\u001b[0m\u001b[0m\n",
            "\u001b[0;32m/home/nbuser/anaconda3_23/lib/python3.4/site-packages/sklearn/linear_model/base.py\u001b[0m in \u001b[0;36mdecision_function\u001b[0;34m(self, X)\u001b[0m\n\u001b[1;32m    260\u001b[0m         \u001b[0;32mif\u001b[0m \u001b[0mX\u001b[0m\u001b[0;34m.\u001b[0m\u001b[0mshape\u001b[0m\u001b[0;34m[\u001b[0m\u001b[0;36m1\u001b[0m\u001b[0;34m]\u001b[0m \u001b[0;34m!=\u001b[0m \u001b[0mn_features\u001b[0m\u001b[0;34m:\u001b[0m\u001b[0;34m\u001b[0m\u001b[0m\n\u001b[1;32m    261\u001b[0m             raise ValueError(\"X has %d features per sample; expecting %d\"\n\u001b[0;32m--> 262\u001b[0;31m                              % (X.shape[1], n_features))\n\u001b[0m\u001b[1;32m    263\u001b[0m \u001b[0;34m\u001b[0m\u001b[0m\n\u001b[1;32m    264\u001b[0m         scores = safe_sparse_dot(X, self.coef_.T,\n",
            "\u001b[0;31mValueError\u001b[0m: X has 8 features per sample; expecting 13"
          ],
          "output_type": "error"
        }
      ]
    },
    {
      "metadata": {
        "trusted": false
      },
      "cell_type": "code",
      "source": "",
      "execution_count": null,
      "outputs": []
    }
  ],
  "metadata": {
    "kernelspec": {
      "name": "python36",
      "display_name": "Python 3.6",
      "language": "python"
    },
    "language_info": {
      "mimetype": "text/x-python",
      "nbconvert_exporter": "python",
      "name": "python",
      "pygments_lexer": "ipython3",
      "version": "3.6.6",
      "file_extension": ".py",
      "codemirror_mode": {
        "version": 3,
        "name": "ipython"
      }
    }
  },
  "nbformat": 4,
  "nbformat_minor": 1
}